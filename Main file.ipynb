{
 "cells": [
  {
   "cell_type": "code",
   "execution_count": 1,
   "id": "80d03d52",
   "metadata": {},
   "outputs": [],
   "source": [
    "import numpy as numpy\n",
    "import pandapower as pp\n",
    "import math\n",
    "import pandas as pd\n"
   ]
  },
  {
   "cell_type": "code",
   "execution_count": 21,
   "id": "6d2bb85e",
   "metadata": {},
   "outputs": [],
   "source": []
  },
  {
   "cell_type": "code",
   "execution_count": 22,
   "id": "d21ede54",
   "metadata": {},
   "outputs": [
    {
     "data": {
      "text/html": [
       "<div>\n",
       "<style scoped>\n",
       "    .dataframe tbody tr th:only-of-type {\n",
       "        vertical-align: middle;\n",
       "    }\n",
       "\n",
       "    .dataframe tbody tr th {\n",
       "        vertical-align: top;\n",
       "    }\n",
       "\n",
       "    .dataframe thead th {\n",
       "        text-align: right;\n",
       "    }\n",
       "</style>\n",
       "<table border=\"1\" class=\"dataframe\">\n",
       "  <thead>\n",
       "    <tr style=\"text-align: right;\">\n",
       "      <th></th>\n",
       "      <th>name</th>\n",
       "      <th>vn_kv</th>\n",
       "      <th>type</th>\n",
       "      <th>zone</th>\n",
       "      <th>in_service</th>\n",
       "    </tr>\n",
       "  </thead>\n",
       "  <tbody>\n",
       "  </tbody>\n",
       "</table>\n",
       "</div>"
      ],
      "text/plain": [
       "Empty DataFrame\n",
       "Columns: [name, vn_kv, type, zone, in_service]\n",
       "Index: []"
      ]
     },
     "execution_count": 22,
     "metadata": {},
     "output_type": "execute_result"
    }
   ],
   "source": [
    "net.bus"
   ]
  },
  {
   "cell_type": "code",
   "execution_count": 29,
   "id": "1b916fed",
   "metadata": {},
   "outputs": [
    {
     "data": {
      "text/plain": [
       "7"
      ]
     },
     "execution_count": 29,
     "metadata": {},
     "output_type": "execute_result"
    }
   ],
   "source": [
    "#Basic net\n",
    "net = pp.create_empty_network(f_hz='50.0', sn_mva=1, add_stdtypes=True)\n",
    "\n",
    "pp.create_bus(net, index = 1, name='Nuclear PP', vn_kv=220, geodata=(100,0))\n",
    "pp.create_bus(net, index = 2, name='Type II B1', vn_kv=220, geodata=(100,100))\n",
    "pp.create_bus(net, index = 3, name='Type II B2', vn_kv=220, geodata=(0,200))\n",
    "pp.create_bus(net, index = 4, name='Type II B3', vn_kv=220, geodata=(150,200))\n",
    "pp.create_bus(net, index = 5, name='Type I B1', vn_kv=220, geodata=(100,150))\n",
    "pp.create_bus(net, index = 6, name='Interconnection', vn_kv=220, geodata=(250,150)) \n",
    "pp.create_bus(net, index = 7, name='Dismantled plant', vn_kv=220, geodata=(150,150))\n",
    "\n",
    "\n",
    "#Incoming exercises\n",
    "\n",
    "#pp.create_bus(net, index=8, vn_kv=220, name='PV PP', geodata=(50, 250))\n",
    "#pp.create_bus(net, index=9, vn_kv=220, name='Wind PP', geodata=(0, 50))\n",
    "#pp.create_bus(net, index=10,vn_kv=220, name='Storage Plant', geodata=(250, 50))"
   ]
  },
  {
   "cell_type": "code",
   "execution_count": 30,
   "id": "509c43e2",
   "metadata": {},
   "outputs": [
    {
     "data": {
      "text/html": [
       "<div>\n",
       "<style scoped>\n",
       "    .dataframe tbody tr th:only-of-type {\n",
       "        vertical-align: middle;\n",
       "    }\n",
       "\n",
       "    .dataframe tbody tr th {\n",
       "        vertical-align: top;\n",
       "    }\n",
       "\n",
       "    .dataframe thead th {\n",
       "        text-align: right;\n",
       "    }\n",
       "</style>\n",
       "<table border=\"1\" class=\"dataframe\">\n",
       "  <thead>\n",
       "    <tr style=\"text-align: right;\">\n",
       "      <th></th>\n",
       "      <th>name</th>\n",
       "      <th>vn_kv</th>\n",
       "      <th>type</th>\n",
       "      <th>zone</th>\n",
       "      <th>in_service</th>\n",
       "    </tr>\n",
       "  </thead>\n",
       "  <tbody>\n",
       "    <tr>\n",
       "      <th>1</th>\n",
       "      <td>Nuclear PP</td>\n",
       "      <td>220.0</td>\n",
       "      <td>b</td>\n",
       "      <td>None</td>\n",
       "      <td>True</td>\n",
       "    </tr>\n",
       "    <tr>\n",
       "      <th>2</th>\n",
       "      <td>Type II B1</td>\n",
       "      <td>220.0</td>\n",
       "      <td>b</td>\n",
       "      <td>None</td>\n",
       "      <td>True</td>\n",
       "    </tr>\n",
       "    <tr>\n",
       "      <th>3</th>\n",
       "      <td>Type II B2</td>\n",
       "      <td>220.0</td>\n",
       "      <td>b</td>\n",
       "      <td>None</td>\n",
       "      <td>True</td>\n",
       "    </tr>\n",
       "    <tr>\n",
       "      <th>4</th>\n",
       "      <td>Type II B3</td>\n",
       "      <td>220.0</td>\n",
       "      <td>b</td>\n",
       "      <td>None</td>\n",
       "      <td>True</td>\n",
       "    </tr>\n",
       "    <tr>\n",
       "      <th>5</th>\n",
       "      <td>Type I B1</td>\n",
       "      <td>220.0</td>\n",
       "      <td>b</td>\n",
       "      <td>None</td>\n",
       "      <td>True</td>\n",
       "    </tr>\n",
       "    <tr>\n",
       "      <th>6</th>\n",
       "      <td>Interconnection</td>\n",
       "      <td>220.0</td>\n",
       "      <td>b</td>\n",
       "      <td>None</td>\n",
       "      <td>True</td>\n",
       "    </tr>\n",
       "    <tr>\n",
       "      <th>7</th>\n",
       "      <td>Dismantled plant</td>\n",
       "      <td>220.0</td>\n",
       "      <td>b</td>\n",
       "      <td>None</td>\n",
       "      <td>True</td>\n",
       "    </tr>\n",
       "  </tbody>\n",
       "</table>\n",
       "</div>"
      ],
      "text/plain": [
       "               name  vn_kv type  zone  in_service\n",
       "1        Nuclear PP  220.0    b  None        True\n",
       "2        Type II B1  220.0    b  None        True\n",
       "3        Type II B2  220.0    b  None        True\n",
       "4        Type II B3  220.0    b  None        True\n",
       "5         Type I B1  220.0    b  None        True\n",
       "6   Interconnection  220.0    b  None        True\n",
       "7  Dismantled plant  220.0    b  None        True"
      ]
     },
     "execution_count": 30,
     "metadata": {},
     "output_type": "execute_result"
    }
   ],
   "source": [
    "net.bus"
   ]
  },
  {
   "cell_type": "code",
   "execution_count": 7,
   "id": "cda543fe",
   "metadata": {},
   "outputs": [
    {
     "ename": "TypeError",
     "evalue": "string indices must be integers",
     "output_type": "error",
     "traceback": [
      "\u001b[1;31m---------------------------------------------------------------------------\u001b[0m",
      "\u001b[1;31mTypeError\u001b[0m                                 Traceback (most recent call last)",
      "\u001b[1;32mc:\\College\\UPC\\Smart grids\\Smart-Grids-group-5\\Smart-Grids-group-5\\Main file.ipynb Cell 4\u001b[0m in \u001b[0;36m<cell line: 1>\u001b[1;34m()\u001b[0m\n\u001b[1;32m----> <a href='vscode-notebook-cell:/c%3A/College/UPC/Smart%20grids/Smart-Grids-group-5/Smart-Grids-group-5/Main%20file.ipynb#W3sZmlsZQ%3D%3D?line=0'>1</a>\u001b[0m pp\u001b[39m.\u001b[39;49mcreate_gen(\u001b[39m'\u001b[39;49m\u001b[39mgrid\u001b[39;49m\u001b[39m'\u001b[39;49m, \u001b[39m'\u001b[39;49m\u001b[39mNuclear PP\u001b[39;49m\u001b[39m'\u001b[39;49m, vm_pu\u001b[39m=\u001b[39;49m\u001b[39m1\u001b[39;49m, p_mw\u001b[39m=\u001b[39;49m\u001b[39m450\u001b[39;49m,\n\u001b[0;32m      <a href='vscode-notebook-cell:/c%3A/College/UPC/Smart%20grids/Smart-Grids-group-5/Smart-Grids-group-5/Main%20file.ipynb#W3sZmlsZQ%3D%3D?line=1'>2</a>\u001b[0m               sn_mva\u001b[39m=\u001b[39;49m\u001b[39m1.05\u001b[39;49m, name\u001b[39m=\u001b[39;49m\u001b[39m'\u001b[39;49m\u001b[39mNuclear Power Plant\u001b[39;49m\u001b[39m'\u001b[39;49m)\n\u001b[0;32m      <a href='vscode-notebook-cell:/c%3A/College/UPC/Smart%20grids/Smart-Grids-group-5/Smart-Grids-group-5/Main%20file.ipynb#W3sZmlsZQ%3D%3D?line=2'>3</a>\u001b[0m pp\u001b[39m.\u001b[39mcreate_gen(\u001b[39m'\u001b[39m\u001b[39mgrid\u001b[39m\u001b[39m'\u001b[39m, \u001b[39m'\u001b[39m\u001b[39mDismantled Plant\u001b[39m\u001b[39m'\u001b[39m, name\u001b[39m=\u001b[39m\u001b[39m'\u001b[39m\u001b[39mDismantled Plant\u001b[39m\u001b[39m'\u001b[39m)\n\u001b[0;32m      <a href='vscode-notebook-cell:/c%3A/College/UPC/Smart%20grids/Smart-Grids-group-5/Smart-Grids-group-5/Main%20file.ipynb#W3sZmlsZQ%3D%3D?line=3'>4</a>\u001b[0m pp\u001b[39m.\u001b[39mcreate_gen(\u001b[39m'\u001b[39m\u001b[39mgrid\u001b[39m\u001b[39m'\u001b[39m, \u001b[39m'\u001b[39m\u001b[39mWind PP\u001b[39m\u001b[39m'\u001b[39m, name\u001b[39m=\u001b[39m\u001b[39m'\u001b[39m\u001b[39mWind Power Plant\u001b[39m\u001b[39m'\u001b[39m)\n",
      "File \u001b[1;32mc:\\Users\\pandi\\anaconda3\\New folder\\lib\\site-packages\\pandapower\\create.py:1502\u001b[0m, in \u001b[0;36mcreate_gen\u001b[1;34m(net, bus, p_mw, vm_pu, sn_mva, name, index, max_q_mvar, min_q_mvar, min_p_mw, max_p_mw, min_vm_pu, max_vm_pu, scaling, type, slack, controllable, vn_kv, xdss_pu, rdss_ohm, cos_phi, pg_percent, power_station_trafo, in_service, slack_weight, **kwargs)\u001b[0m\n\u001b[0;32m   1420\u001b[0m \u001b[39mdef\u001b[39;00m \u001b[39mcreate_gen\u001b[39m(net, bus, p_mw, vm_pu\u001b[39m=\u001b[39m\u001b[39m1.\u001b[39m, sn_mva\u001b[39m=\u001b[39mnan, name\u001b[39m=\u001b[39m\u001b[39mNone\u001b[39;00m, index\u001b[39m=\u001b[39m\u001b[39mNone\u001b[39;00m, max_q_mvar\u001b[39m=\u001b[39mnan,\n\u001b[0;32m   1421\u001b[0m                min_q_mvar\u001b[39m=\u001b[39mnan, min_p_mw\u001b[39m=\u001b[39mnan, max_p_mw\u001b[39m=\u001b[39mnan, min_vm_pu\u001b[39m=\u001b[39mnan, max_vm_pu\u001b[39m=\u001b[39mnan,\n\u001b[0;32m   1422\u001b[0m                scaling\u001b[39m=\u001b[39m\u001b[39m1.\u001b[39m, \u001b[39mtype\u001b[39m\u001b[39m=\u001b[39m\u001b[39mNone\u001b[39;00m, slack\u001b[39m=\u001b[39m\u001b[39mFalse\u001b[39;00m, controllable\u001b[39m=\u001b[39mnan, vn_kv\u001b[39m=\u001b[39mnan,\n\u001b[0;32m   1423\u001b[0m                xdss_pu\u001b[39m=\u001b[39mnan, rdss_ohm\u001b[39m=\u001b[39mnan, cos_phi\u001b[39m=\u001b[39mnan, pg_percent\u001b[39m=\u001b[39mnan, power_station_trafo\u001b[39m=\u001b[39m\u001b[39mNone\u001b[39;00m,\n\u001b[0;32m   1424\u001b[0m                in_service\u001b[39m=\u001b[39m\u001b[39mTrue\u001b[39;00m, slack_weight\u001b[39m=\u001b[39m\u001b[39m0.0\u001b[39m, \u001b[39m*\u001b[39m\u001b[39m*\u001b[39mkwargs):\n\u001b[0;32m   1425\u001b[0m     \u001b[39m\"\"\"\u001b[39;00m\n\u001b[0;32m   1426\u001b[0m \u001b[39m    Adds a generator to the network.\u001b[39;00m\n\u001b[0;32m   1427\u001b[0m \n\u001b[1;32m   (...)\u001b[0m\n\u001b[0;32m   1500\u001b[0m \n\u001b[0;32m   1501\u001b[0m \u001b[39m    \"\"\"\u001b[39;00m\n\u001b[1;32m-> 1502\u001b[0m     _check_node_element(net, bus)\n\u001b[0;32m   1504\u001b[0m     index \u001b[39m=\u001b[39m _get_index_with_check(net, \u001b[39m\"\u001b[39m\u001b[39mgen\u001b[39m\u001b[39m\"\u001b[39m, index, name\u001b[39m=\u001b[39m\u001b[39m\"\u001b[39m\u001b[39mgenerator\u001b[39m\u001b[39m\"\u001b[39m)\n\u001b[0;32m   1506\u001b[0m     columns \u001b[39m=\u001b[39m [\u001b[39m\"\u001b[39m\u001b[39mname\u001b[39m\u001b[39m\"\u001b[39m, \u001b[39m\"\u001b[39m\u001b[39mbus\u001b[39m\u001b[39m\"\u001b[39m, \u001b[39m\"\u001b[39m\u001b[39mp_mw\u001b[39m\u001b[39m\"\u001b[39m, \u001b[39m\"\u001b[39m\u001b[39mvm_pu\u001b[39m\u001b[39m\"\u001b[39m, \u001b[39m\"\u001b[39m\u001b[39msn_mva\u001b[39m\u001b[39m\"\u001b[39m, \u001b[39m\"\u001b[39m\u001b[39mtype\u001b[39m\u001b[39m\"\u001b[39m, \u001b[39m\"\u001b[39m\u001b[39mslack\u001b[39m\u001b[39m\"\u001b[39m, \u001b[39m\"\u001b[39m\u001b[39min_service\u001b[39m\u001b[39m\"\u001b[39m,\n\u001b[0;32m   1507\u001b[0m                \u001b[39m\"\u001b[39m\u001b[39mscaling\u001b[39m\u001b[39m\"\u001b[39m, \u001b[39m\"\u001b[39m\u001b[39mslack_weight\u001b[39m\u001b[39m\"\u001b[39m]\n",
      "File \u001b[1;32mc:\\Users\\pandi\\anaconda3\\New folder\\lib\\site-packages\\pandapower\\create.py:4136\u001b[0m, in \u001b[0;36m_check_node_element\u001b[1;34m(net, node, node_table)\u001b[0m\n\u001b[0;32m   4135\u001b[0m \u001b[39mdef\u001b[39;00m \u001b[39m_check_node_element\u001b[39m(net, node, node_table\u001b[39m=\u001b[39m\u001b[39m\"\u001b[39m\u001b[39mbus\u001b[39m\u001b[39m\"\u001b[39m):\n\u001b[1;32m-> 4136\u001b[0m     \u001b[39mif\u001b[39;00m node \u001b[39mnot\u001b[39;00m \u001b[39min\u001b[39;00m net[node_table]\u001b[39m.\u001b[39mindex\u001b[39m.\u001b[39mvalues:\n\u001b[0;32m   4137\u001b[0m         \u001b[39mraise\u001b[39;00m \u001b[39mUserWarning\u001b[39;00m(\u001b[39m\"\u001b[39m\u001b[39mCannot attach to \u001b[39m\u001b[39m%s\u001b[39;00m\u001b[39m \u001b[39m\u001b[39m%s\u001b[39;00m\u001b[39m, \u001b[39m\u001b[39m%s\u001b[39;00m\u001b[39m does not exist\u001b[39m\u001b[39m\"\u001b[39m\n\u001b[0;32m   4138\u001b[0m                           \u001b[39m%\u001b[39m (node_table, node, node_table))\n",
      "\u001b[1;31mTypeError\u001b[0m: string indices must be integers"
     ]
    }
   ],
   "source": [
    "pp.create_gen(net, 1, name='Nuclear PP', ''vm_pu=1, p_mw=450, sn_mva=1.05,)\n",
    "pp.create_gen(net, 7, name='Dismantled Plant')\n",
    "\n",
    "#Incoming exercises\n",
    "\n",
    "#pp.create_gen(net, 9, name='Wind PP', name='Wind Power Plant')\n",
    "#pp.create_gen(net, 8, name='PV PP', name='Solar PV Power plant')\n",
    "#pp.create_gen(net, 10, name='Storage Plant', name='Storage Plant')\n",
    "\n"
   ]
  },
  {
   "cell_type": "code",
   "execution_count": null,
   "id": "b25656ec",
   "metadata": {},
   "outputs": [],
   "source": [
    "pp.create_loads()"
   ]
  }
 ],
 "metadata": {
  "kernelspec": {
   "display_name": "Python 3.9.12 ('base')",
   "language": "python",
   "name": "python3"
  },
  "language_info": {
   "codemirror_mode": {
    "name": "ipython",
    "version": 3
   },
   "file_extension": ".py",
   "mimetype": "text/x-python",
   "name": "python",
   "nbconvert_exporter": "python",
   "pygments_lexer": "ipython3",
   "version": "3.9.12"
  },
  "vscode": {
   "interpreter": {
    "hash": "1c00807b160116c3be26216050a88364f6569d858621d855968a6ee7a9d4cbca"
   }
  }
 },
 "nbformat": 4,
 "nbformat_minor": 5
}
