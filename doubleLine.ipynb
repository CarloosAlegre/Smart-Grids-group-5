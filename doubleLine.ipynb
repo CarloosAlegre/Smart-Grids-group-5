{
 "cells": [
  {
   "cell_type": "code",
   "execution_count": null,
   "metadata": {},
   "outputs": [],
   "source": [
    "from math import sqrt\n",
    "# DistBnces\n",
    "\n",
    "\n",
    "\n",
    "\n",
    "a = 9   #m\n",
    "b = 7   #m\n",
    "c = a   #m\n",
    "d = 6.5 #m\n",
    "e = d   #m\n",
    "\n",
    "d_A1A2 = sqrt((d+e)**2 + a**2) #m\n",
    "d_A1B1 = sqrt((abs(b-a)/2)**2 + d**2)    #m\n",
    "d_A1B2 = sqrt(((a+b)/2)**2 + d**2)    #m\n",
    "d_A2B1 = sqrt(((b+c)/2)**2 + e**2)   #m\n",
    "d_A2B2 = sqrt((abs(b-c)/2)**2 + e**2)    #m\n",
    "d_A1C1 = sqrt((abs(c-a)/2)**2 + (d+e)**2)    #m  / Suposition that a = c\n",
    "d_A1C2 = a    #m\n",
    "d_A2C1 = c    #m\n",
    "d_A2C2 = d_A1C1    #m\n",
    "d_B1B2 = b    #m\n",
    "d_B1C1 = d_A2B2  #m\n",
    "d_B1C2 = d_A1B2    #m\n",
    "d_B2C1 = d_A2B1  #m\n",
    "d_B2C2 = d_A1B1  #m\n",
    "d_C1C2 = d_A1A2  #m"
   ]
  },
  {
   "cell_type": "code",
   "execution_count": null,
   "metadata": {},
   "outputs": [],
   "source": [
    "# Conductor Characteristics\n",
    "\n",
    "# 54Al + 7Ac\n",
    "# Type Cardenal\n",
    "R = 0.062   # Ohms/km (AC resistance)\n",
    "d = 30.40   # diameter in mm\n",
    "r = d/2\n",
    "kg = 0.809  #\n",
    "G = 0 # In this case we consider Admittance negligible# Conductor Characteristics\n",
    "\n",
    "# 54Al + 7Ac\n",
    "# Type Cardenal\n",
    "\n",
    "R = 0.062   # Ohms/km (AC resistance)\n",
    "d = 30.40   # diameter in mm\n",
    "r = d/2\n",
    "kg = 0.809  #\n",
    "G = 0 # In this case we consider Admittance negligible"
   ]
  },
  {
   "cell_type": "code",
   "execution_count": null,
   "metadata": {},
   "outputs": [],
   "source": [
    "# GMR Calculation\n",
    "\n",
    "\n",
    "GMR_A = (kg*r*d_A1A2) ** (1/2)\n",
    "GMR_B = (kg*r*d_B1B2) ** (1/2)\n",
    "GMR_C = (kg*r*d_C1C2) ** (1/2)\n",
    "\n",
    "GMR = (GMR_A*GMR_B*GMR_C) **(1/3)"
   ]
  },
  {
   "cell_type": "code",
   "execution_count": null,
   "metadata": {},
   "outputs": [],
   "source": [
    "# GMD Calculation\n",
    "\n",
    "GMD_AB = (d_A1B1*d_A1B2*d_A2B1*d_A2B2) ** (1/4)\n",
    "GMD_BC = (d_B1C1*d_B1C2*d_B2C1*d_B2C2) ** (1/4)\n",
    "GMD_CA = (d_A1C1*d_A1C2*d_A2C1*d_A2C2) ** (1/4)\n",
    "\n",
    "GMD = (GMD_AB*GMD_BC*GMD_CA) **(1/3)"
   ]
  },
  {
   "cell_type": "code",
   "execution_count": null,
   "metadata": {},
   "outputs": [],
   "source": [
    "# Req Calculation\n",
    "\n",
    "Req_A = (r*d_A1A2) ** (1/2)\n",
    "Req_B = (r*d_B1B2) ** (1/2)\n",
    "Req_C = (r*d_C1C2) ** (1/2)\n",
    "\n",
    "Req = (Req_A*Req_B*Req_C) ** (1/3)"
   ]
  },
  {
   "cell_type": "code",
   "execution_count": null,
   "metadata": {},
   "outputs": [],
   "source": [
    "# Inductance Calculation\n",
    "\n",
    "from math import pi , log\n",
    "\n",
    "\n",
    "L = 0.2*log((GMD*1000)/GMR) #mH/km  / Should give around 1 mH/km\n",
    "\n",
    "f= 50 # Hz\n",
    "Xl = 2*pi*f*L*1000 # Ohm/km"
   ]
  },
  {
   "cell_type": "code",
   "execution_count": null,
   "metadata": {},
   "outputs": [],
   "source": [
    "# Capacitance\n",
    "\n",
    "C = 1000/(18*log(GMD*1000/Req)) # nF/km / around 0-20nF/km in overhead lines"
   ]
  },
  {
   "cell_type": "code",
   "execution_count": null,
   "metadata": {},
   "outputs": [],
   "source": [
    "# Print results\n",
    "\n",
    "print('R = ',R, ' Ohms/km')\n",
    "print('L = ',L,' mH/km')\n",
    "print('Xl = ',Xl,' Ohms/km')\n",
    "print('C = ',C, ' nF/km')"
   ]
  }
 ],
 "metadata": {
  "language_info": {
   "name": "python"
  },
  "orig_nbformat": 4
 },
 "nbformat": 4,
 "nbformat_minor": 2
}
